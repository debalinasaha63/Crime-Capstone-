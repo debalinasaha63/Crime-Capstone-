{
 "cells": [
  {
   "cell_type": "code",
   "execution_count": 5,
   "id": "71e7214c",
   "metadata": {},
   "outputs": [
    {
     "data": {
      "text/html": [
       "<div>\n",
       "<style scoped>\n",
       "    .dataframe tbody tr th:only-of-type {\n",
       "        vertical-align: middle;\n",
       "    }\n",
       "\n",
       "    .dataframe tbody tr th {\n",
       "        vertical-align: top;\n",
       "    }\n",
       "\n",
       "    .dataframe thead th {\n",
       "        text-align: right;\n",
       "    }\n",
       "</style>\n",
       "<table border=\"1\" class=\"dataframe\">\n",
       "  <thead>\n",
       "    <tr style=\"text-align: right;\">\n",
       "      <th></th>\n",
       "      <th>State/UT</th>\n",
       "      <th>Year</th>\n",
       "      <th>Population</th>\n",
       "      <th>Literacy rate</th>\n",
       "      <th>Total crime</th>\n",
       "      <th>Area</th>\n",
       "    </tr>\n",
       "  </thead>\n",
       "  <tbody>\n",
       "    <tr>\n",
       "      <th>0</th>\n",
       "      <td>Andhara Pradesh</td>\n",
       "      <td>2001</td>\n",
       "      <td>76201007</td>\n",
       "      <td>66.64</td>\n",
       "      <td>130089</td>\n",
       "      <td>160205km*km</td>\n",
       "    </tr>\n",
       "    <tr>\n",
       "      <th>1</th>\n",
       "      <td>Arunachal Pradesh</td>\n",
       "      <td>2001</td>\n",
       "      <td>1097968</td>\n",
       "      <td>54.34</td>\n",
       "      <td>2342</td>\n",
       "      <td>83743km*km</td>\n",
       "    </tr>\n",
       "    <tr>\n",
       "      <th>2</th>\n",
       "      <td>Assam</td>\n",
       "      <td>2001</td>\n",
       "      <td>26655528</td>\n",
       "      <td>63.25</td>\n",
       "      <td>36877</td>\n",
       "      <td>78438km*km</td>\n",
       "    </tr>\n",
       "    <tr>\n",
       "      <th>3</th>\n",
       "      <td>Bihar</td>\n",
       "      <td>2001</td>\n",
       "      <td>82998509</td>\n",
       "      <td>47.00</td>\n",
       "      <td>88432</td>\n",
       "      <td>94163km*km</td>\n",
       "    </tr>\n",
       "    <tr>\n",
       "      <th>4</th>\n",
       "      <td>Chattishgarh</td>\n",
       "      <td>2001</td>\n",
       "      <td>20833803</td>\n",
       "      <td>64.66</td>\n",
       "      <td>38460</td>\n",
       "      <td>135194km*km</td>\n",
       "    </tr>\n",
       "    <tr>\n",
       "      <th>5</th>\n",
       "      <td>Goa</td>\n",
       "      <td>2001</td>\n",
       "      <td>1347668</td>\n",
       "      <td>82.01</td>\n",
       "      <td>2341</td>\n",
       "      <td>3702km*km</td>\n",
       "    </tr>\n",
       "    <tr>\n",
       "      <th>6</th>\n",
       "      <td>Gujrat</td>\n",
       "      <td>2001</td>\n",
       "      <td>50671071</td>\n",
       "      <td>69.14</td>\n",
       "      <td>103419</td>\n",
       "      <td>196000km*km</td>\n",
       "    </tr>\n",
       "    <tr>\n",
       "      <th>7</th>\n",
       "      <td>Haryana</td>\n",
       "      <td>2001</td>\n",
       "      <td>21144564</td>\n",
       "      <td>67.91</td>\n",
       "      <td>38759</td>\n",
       "      <td>44212km*km</td>\n",
       "    </tr>\n",
       "    <tr>\n",
       "      <th>8</th>\n",
       "      <td>Himachal Pradesh</td>\n",
       "      <td>2001</td>\n",
       "      <td>6077900</td>\n",
       "      <td>76.48</td>\n",
       "      <td>11499</td>\n",
       "      <td>556058km*km</td>\n",
       "    </tr>\n",
       "    <tr>\n",
       "      <th>9</th>\n",
       "      <td>Jammu &amp; Kashmir</td>\n",
       "      <td>2001</td>\n",
       "      <td>10143700</td>\n",
       "      <td>55.52</td>\n",
       "      <td>19505</td>\n",
       "      <td>42241km*km</td>\n",
       "    </tr>\n",
       "    <tr>\n",
       "      <th>10</th>\n",
       "      <td>Jharkhand</td>\n",
       "      <td>2001</td>\n",
       "      <td>26945829</td>\n",
       "      <td>53.56</td>\n",
       "      <td>25447</td>\n",
       "      <td>79714km*km</td>\n",
       "    </tr>\n",
       "    <tr>\n",
       "      <th>11</th>\n",
       "      <td>Karnataka</td>\n",
       "      <td>2001</td>\n",
       "      <td>52850562</td>\n",
       "      <td>60.47</td>\n",
       "      <td>109098</td>\n",
       "      <td>191791km*km</td>\n",
       "    </tr>\n",
       "    <tr>\n",
       "      <th>12</th>\n",
       "      <td>Kerala</td>\n",
       "      <td>2001</td>\n",
       "      <td>31841374</td>\n",
       "      <td>90.86</td>\n",
       "      <td>103847</td>\n",
       "      <td>38863km*km</td>\n",
       "    </tr>\n",
       "    <tr>\n",
       "      <th>13</th>\n",
       "      <td>Madhyapradesh</td>\n",
       "      <td>2001</td>\n",
       "      <td>60348023</td>\n",
       "      <td>63.74</td>\n",
       "      <td>181741</td>\n",
       "      <td>308000km*km</td>\n",
       "    </tr>\n",
       "    <tr>\n",
       "      <th>14</th>\n",
       "      <td>Maharashtra</td>\n",
       "      <td>2001</td>\n",
       "      <td>96878627</td>\n",
       "      <td>76.88</td>\n",
       "      <td>171233</td>\n",
       "      <td>308000km*km</td>\n",
       "    </tr>\n",
       "    <tr>\n",
       "      <th>15</th>\n",
       "      <td>Manipur</td>\n",
       "      <td>2001</td>\n",
       "      <td>2293896</td>\n",
       "      <td>69.93</td>\n",
       "      <td>2489</td>\n",
       "      <td>22327km*km</td>\n",
       "    </tr>\n",
       "    <tr>\n",
       "      <th>16</th>\n",
       "      <td>Meghalaya</td>\n",
       "      <td>2001</td>\n",
       "      <td>2318822</td>\n",
       "      <td>62.56</td>\n",
       "      <td>1687</td>\n",
       "      <td>22720km*km</td>\n",
       "    </tr>\n",
       "    <tr>\n",
       "      <th>17</th>\n",
       "      <td>Mizoram</td>\n",
       "      <td>2001</td>\n",
       "      <td>888573</td>\n",
       "      <td>88.80</td>\n",
       "      <td>2246</td>\n",
       "      <td>21081km*km</td>\n",
       "    </tr>\n",
       "    <tr>\n",
       "      <th>18</th>\n",
       "      <td>Nagaland</td>\n",
       "      <td>2001</td>\n",
       "      <td>1990036</td>\n",
       "      <td>66.59</td>\n",
       "      <td>1234</td>\n",
       "      <td>16579km*km</td>\n",
       "    </tr>\n",
       "    <tr>\n",
       "      <th>19</th>\n",
       "      <td>Orissa</td>\n",
       "      <td>2001</td>\n",
       "      <td>36804660</td>\n",
       "      <td>63.08</td>\n",
       "      <td>46661</td>\n",
       "      <td>155707km*km</td>\n",
       "    </tr>\n",
       "    <tr>\n",
       "      <th>20</th>\n",
       "      <td>Punjab</td>\n",
       "      <td>2001</td>\n",
       "      <td>24358999</td>\n",
       "      <td>69.65</td>\n",
       "      <td>2774</td>\n",
       "      <td>50362km*km</td>\n",
       "    </tr>\n",
       "    <tr>\n",
       "      <th>21</th>\n",
       "      <td>Rajstan</td>\n",
       "      <td>2001</td>\n",
       "      <td>56507188</td>\n",
       "      <td>60.41</td>\n",
       "      <td>155185</td>\n",
       "      <td>342239km*km</td>\n",
       "    </tr>\n",
       "    <tr>\n",
       "      <th>22</th>\n",
       "      <td>Sikkim</td>\n",
       "      <td>2001</td>\n",
       "      <td>540851</td>\n",
       "      <td>68.81</td>\n",
       "      <td>444</td>\n",
       "      <td>7096km*km</td>\n",
       "    </tr>\n",
       "    <tr>\n",
       "      <th>23</th>\n",
       "      <td>Tamilnadu</td>\n",
       "      <td>2001</td>\n",
       "      <td>62405679</td>\n",
       "      <td>73.45</td>\n",
       "      <td>154801</td>\n",
       "      <td>130060km*km</td>\n",
       "    </tr>\n",
       "    <tr>\n",
       "      <th>24</th>\n",
       "      <td>Tripura</td>\n",
       "      <td>2001</td>\n",
       "      <td>3199203</td>\n",
       "      <td>73.19</td>\n",
       "      <td>2801</td>\n",
       "      <td>10486km*km</td>\n",
       "    </tr>\n",
       "    <tr>\n",
       "      <th>25</th>\n",
       "      <td>Uttarpradesh</td>\n",
       "      <td>2001</td>\n",
       "      <td>8489349</td>\n",
       "      <td>71.62</td>\n",
       "      <td>178129</td>\n",
       "      <td>53483km*km</td>\n",
       "    </tr>\n",
       "    <tr>\n",
       "      <th>26</th>\n",
       "      <td>Uttarakhand</td>\n",
       "      <td>2001</td>\n",
       "      <td>166197921</td>\n",
       "      <td>56.27</td>\n",
       "      <td>8073</td>\n",
       "      <td>243286km*km</td>\n",
       "    </tr>\n",
       "    <tr>\n",
       "      <th>27</th>\n",
       "      <td>West bengal</td>\n",
       "      <td>2001</td>\n",
       "      <td>80176197</td>\n",
       "      <td>68.64</td>\n",
       "      <td>61563</td>\n",
       "      <td>88752km*km</td>\n",
       "    </tr>\n",
       "    <tr>\n",
       "      <th>28</th>\n",
       "      <td>Delhi UT</td>\n",
       "      <td>2001</td>\n",
       "      <td>13850507</td>\n",
       "      <td>81.67</td>\n",
       "      <td>54384</td>\n",
       "      <td>1483km*km</td>\n",
       "    </tr>\n",
       "  </tbody>\n",
       "</table>\n",
       "</div>"
      ],
      "text/plain": [
       "             State/UT  Year  Population  Literacy rate  Total crime  \\\n",
       "0     Andhara Pradesh  2001    76201007          66.64       130089   \n",
       "1   Arunachal Pradesh  2001     1097968          54.34         2342   \n",
       "2               Assam  2001    26655528          63.25        36877   \n",
       "3               Bihar  2001    82998509          47.00        88432   \n",
       "4        Chattishgarh  2001    20833803          64.66        38460   \n",
       "5                 Goa  2001     1347668          82.01         2341   \n",
       "6              Gujrat  2001    50671071          69.14       103419   \n",
       "7             Haryana  2001    21144564          67.91        38759   \n",
       "8    Himachal Pradesh  2001     6077900          76.48        11499   \n",
       "9     Jammu & Kashmir  2001    10143700          55.52        19505   \n",
       "10          Jharkhand  2001    26945829          53.56        25447   \n",
       "11          Karnataka  2001    52850562          60.47       109098   \n",
       "12             Kerala  2001    31841374          90.86       103847   \n",
       "13      Madhyapradesh  2001    60348023          63.74       181741   \n",
       "14        Maharashtra  2001    96878627          76.88       171233   \n",
       "15            Manipur  2001     2293896          69.93         2489   \n",
       "16          Meghalaya  2001     2318822          62.56         1687   \n",
       "17            Mizoram  2001      888573          88.80         2246   \n",
       "18           Nagaland  2001     1990036          66.59         1234   \n",
       "19             Orissa  2001    36804660          63.08        46661   \n",
       "20             Punjab  2001    24358999          69.65         2774   \n",
       "21            Rajstan  2001    56507188          60.41       155185   \n",
       "22             Sikkim  2001      540851          68.81          444   \n",
       "23          Tamilnadu  2001    62405679          73.45       154801   \n",
       "24            Tripura  2001     3199203          73.19         2801   \n",
       "25       Uttarpradesh  2001     8489349          71.62       178129   \n",
       "26        Uttarakhand  2001   166197921          56.27         8073   \n",
       "27        West bengal  2001    80176197          68.64        61563   \n",
       "28           Delhi UT  2001    13850507          81.67        54384   \n",
       "\n",
       "           Area  \n",
       "0   160205km*km  \n",
       "1    83743km*km  \n",
       "2    78438km*km  \n",
       "3    94163km*km  \n",
       "4   135194km*km  \n",
       "5     3702km*km  \n",
       "6   196000km*km  \n",
       "7    44212km*km  \n",
       "8   556058km*km  \n",
       "9    42241km*km  \n",
       "10   79714km*km  \n",
       "11  191791km*km  \n",
       "12   38863km*km  \n",
       "13  308000km*km  \n",
       "14  308000km*km  \n",
       "15   22327km*km  \n",
       "16   22720km*km  \n",
       "17   21081km*km  \n",
       "18   16579km*km  \n",
       "19  155707km*km  \n",
       "20   50362km*km  \n",
       "21  342239km*km  \n",
       "22    7096km*km  \n",
       "23  130060km*km  \n",
       "24   10486km*km  \n",
       "25   53483km*km  \n",
       "26  243286km*km  \n",
       "27   88752km*km  \n",
       "28    1483km*km  "
      ]
     },
     "execution_count": 5,
     "metadata": {},
     "output_type": "execute_result"
    }
   ],
   "source": [
    "import pandas as pd\n",
    "df=pd.read_csv(\"state_data.csv\")\n",
    "df"
   ]
  },
  {
   "cell_type": "code",
   "execution_count": 6,
   "id": "caa6da52",
   "metadata": {},
   "outputs": [
    {
     "name": "stdout",
     "output_type": "stream",
     "text": [
      "<class 'pandas.core.frame.DataFrame'>\n",
      "RangeIndex: 29 entries, 0 to 28\n",
      "Data columns (total 6 columns):\n",
      " #   Column         Non-Null Count  Dtype  \n",
      "---  ------         --------------  -----  \n",
      " 0   State/UT       29 non-null     object \n",
      " 1   Year           29 non-null     int64  \n",
      " 2   Population     29 non-null     int64  \n",
      " 3   Literacy rate  29 non-null     float64\n",
      " 4   Total crime    29 non-null     int64  \n",
      " 5   Area           29 non-null     object \n",
      "dtypes: float64(1), int64(3), object(2)\n",
      "memory usage: 1.5+ KB\n"
     ]
    }
   ],
   "source": [
    "df.info()"
   ]
  },
  {
   "cell_type": "code",
   "execution_count": 31,
   "id": "3145334d",
   "metadata": {},
   "outputs": [
    {
     "data": {
      "text/plain": [
       "State/UT         0\n",
       "Year             0\n",
       "Population       0\n",
       "Literacy rate    0\n",
       "Total crime      0\n",
       "Area             0\n",
       "dtype: int64"
      ]
     },
     "execution_count": 31,
     "metadata": {},
     "output_type": "execute_result"
    }
   ],
   "source": [
    "df.isnull().sum()"
   ]
  },
  {
   "cell_type": "code",
   "execution_count": 7,
   "id": "4af00882",
   "metadata": {},
   "outputs": [
    {
     "data": {
      "text/html": [
       "<div>\n",
       "<style scoped>\n",
       "    .dataframe tbody tr th:only-of-type {\n",
       "        vertical-align: middle;\n",
       "    }\n",
       "\n",
       "    .dataframe tbody tr th {\n",
       "        vertical-align: top;\n",
       "    }\n",
       "\n",
       "    .dataframe thead th {\n",
       "        text-align: right;\n",
       "    }\n",
       "</style>\n",
       "<table border=\"1\" class=\"dataframe\">\n",
       "  <thead>\n",
       "    <tr style=\"text-align: right;\">\n",
       "      <th></th>\n",
       "      <th>Year</th>\n",
       "      <th>Population</th>\n",
       "      <th>Literacy rate</th>\n",
       "      <th>Total crime</th>\n",
       "    </tr>\n",
       "  </thead>\n",
       "  <tbody>\n",
       "    <tr>\n",
       "      <th>count</th>\n",
       "      <td>29.0</td>\n",
       "      <td>2.900000e+01</td>\n",
       "      <td>29.000000</td>\n",
       "      <td>29.000000</td>\n",
       "    </tr>\n",
       "    <tr>\n",
       "      <th>mean</th>\n",
       "      <td>2001.0</td>\n",
       "      <td>3.538131e+07</td>\n",
       "      <td>67.832069</td>\n",
       "      <td>59846.896552</td>\n",
       "    </tr>\n",
       "    <tr>\n",
       "      <th>std</th>\n",
       "      <td>0.0</td>\n",
       "      <td>3.855881e+07</td>\n",
       "      <td>10.212290</td>\n",
       "      <td>62939.221793</td>\n",
       "    </tr>\n",
       "    <tr>\n",
       "      <th>min</th>\n",
       "      <td>2001.0</td>\n",
       "      <td>5.408510e+05</td>\n",
       "      <td>47.000000</td>\n",
       "      <td>444.000000</td>\n",
       "    </tr>\n",
       "    <tr>\n",
       "      <th>25%</th>\n",
       "      <td>2001.0</td>\n",
       "      <td>3.199203e+06</td>\n",
       "      <td>62.560000</td>\n",
       "      <td>2774.000000</td>\n",
       "    </tr>\n",
       "    <tr>\n",
       "      <th>50%</th>\n",
       "      <td>2001.0</td>\n",
       "      <td>2.435900e+07</td>\n",
       "      <td>67.910000</td>\n",
       "      <td>38460.000000</td>\n",
       "    </tr>\n",
       "    <tr>\n",
       "      <th>75%</th>\n",
       "      <td>2001.0</td>\n",
       "      <td>5.650719e+07</td>\n",
       "      <td>73.190000</td>\n",
       "      <td>103847.000000</td>\n",
       "    </tr>\n",
       "    <tr>\n",
       "      <th>max</th>\n",
       "      <td>2001.0</td>\n",
       "      <td>1.661979e+08</td>\n",
       "      <td>90.860000</td>\n",
       "      <td>181741.000000</td>\n",
       "    </tr>\n",
       "  </tbody>\n",
       "</table>\n",
       "</div>"
      ],
      "text/plain": [
       "         Year    Population  Literacy rate    Total crime\n",
       "count    29.0  2.900000e+01      29.000000      29.000000\n",
       "mean   2001.0  3.538131e+07      67.832069   59846.896552\n",
       "std       0.0  3.855881e+07      10.212290   62939.221793\n",
       "min    2001.0  5.408510e+05      47.000000     444.000000\n",
       "25%    2001.0  3.199203e+06      62.560000    2774.000000\n",
       "50%    2001.0  2.435900e+07      67.910000   38460.000000\n",
       "75%    2001.0  5.650719e+07      73.190000  103847.000000\n",
       "max    2001.0  1.661979e+08      90.860000  181741.000000"
      ]
     },
     "execution_count": 7,
     "metadata": {},
     "output_type": "execute_result"
    }
   ],
   "source": [
    "df.describe()"
   ]
  },
  {
   "cell_type": "code",
   "execution_count": 25,
   "id": "a58813bd",
   "metadata": {},
   "outputs": [
    {
     "data": {
      "text/html": [
       "<div>\n",
       "<style scoped>\n",
       "    .dataframe tbody tr th:only-of-type {\n",
       "        vertical-align: middle;\n",
       "    }\n",
       "\n",
       "    .dataframe tbody tr th {\n",
       "        vertical-align: top;\n",
       "    }\n",
       "\n",
       "    .dataframe thead th {\n",
       "        text-align: right;\n",
       "    }\n",
       "</style>\n",
       "<table border=\"1\" class=\"dataframe\">\n",
       "  <thead>\n",
       "    <tr style=\"text-align: right;\">\n",
       "      <th></th>\n",
       "      <th>State/UT</th>\n",
       "      <th>Year</th>\n",
       "      <th>Population</th>\n",
       "      <th>Literacy rate</th>\n",
       "      <th>Total crime</th>\n",
       "      <th>Area</th>\n",
       "    </tr>\n",
       "  </thead>\n",
       "  <tbody>\n",
       "    <tr>\n",
       "      <th>0</th>\n",
       "      <td>Andhara Pradesh</td>\n",
       "      <td>2001</td>\n",
       "      <td>76201007</td>\n",
       "      <td>66.64</td>\n",
       "      <td>130089</td>\n",
       "      <td>160205km*km</td>\n",
       "    </tr>\n",
       "    <tr>\n",
       "      <th>1</th>\n",
       "      <td>Arunachal Pradesh</td>\n",
       "      <td>2001</td>\n",
       "      <td>1097968</td>\n",
       "      <td>54.34</td>\n",
       "      <td>2342</td>\n",
       "      <td>83743km*km</td>\n",
       "    </tr>\n",
       "    <tr>\n",
       "      <th>2</th>\n",
       "      <td>Assam</td>\n",
       "      <td>2001</td>\n",
       "      <td>26655528</td>\n",
       "      <td>63.25</td>\n",
       "      <td>36877</td>\n",
       "      <td>78438km*km</td>\n",
       "    </tr>\n",
       "    <tr>\n",
       "      <th>3</th>\n",
       "      <td>Bihar</td>\n",
       "      <td>2001</td>\n",
       "      <td>82998509</td>\n",
       "      <td>47.00</td>\n",
       "      <td>88432</td>\n",
       "      <td>94163km*km</td>\n",
       "    </tr>\n",
       "    <tr>\n",
       "      <th>4</th>\n",
       "      <td>Chattishgarh</td>\n",
       "      <td>2001</td>\n",
       "      <td>20833803</td>\n",
       "      <td>64.66</td>\n",
       "      <td>38460</td>\n",
       "      <td>135194km*km</td>\n",
       "    </tr>\n",
       "    <tr>\n",
       "      <th>5</th>\n",
       "      <td>Goa</td>\n",
       "      <td>2001</td>\n",
       "      <td>1347668</td>\n",
       "      <td>82.01</td>\n",
       "      <td>2341</td>\n",
       "      <td>3702km*km</td>\n",
       "    </tr>\n",
       "    <tr>\n",
       "      <th>6</th>\n",
       "      <td>Gujrat</td>\n",
       "      <td>2001</td>\n",
       "      <td>50671071</td>\n",
       "      <td>69.14</td>\n",
       "      <td>103419</td>\n",
       "      <td>196000km*km</td>\n",
       "    </tr>\n",
       "    <tr>\n",
       "      <th>7</th>\n",
       "      <td>Haryana</td>\n",
       "      <td>2001</td>\n",
       "      <td>21144564</td>\n",
       "      <td>67.91</td>\n",
       "      <td>38759</td>\n",
       "      <td>44212km*km</td>\n",
       "    </tr>\n",
       "    <tr>\n",
       "      <th>8</th>\n",
       "      <td>Himachal Pradesh</td>\n",
       "      <td>2001</td>\n",
       "      <td>6077900</td>\n",
       "      <td>76.48</td>\n",
       "      <td>11499</td>\n",
       "      <td>556058km*km</td>\n",
       "    </tr>\n",
       "    <tr>\n",
       "      <th>9</th>\n",
       "      <td>Jammu &amp; Kashmir</td>\n",
       "      <td>2001</td>\n",
       "      <td>10143700</td>\n",
       "      <td>55.52</td>\n",
       "      <td>19505</td>\n",
       "      <td>42241km*km</td>\n",
       "    </tr>\n",
       "    <tr>\n",
       "      <th>10</th>\n",
       "      <td>Jharkhand</td>\n",
       "      <td>2001</td>\n",
       "      <td>26945829</td>\n",
       "      <td>53.56</td>\n",
       "      <td>25447</td>\n",
       "      <td>79714km*km</td>\n",
       "    </tr>\n",
       "    <tr>\n",
       "      <th>11</th>\n",
       "      <td>Karnataka</td>\n",
       "      <td>2001</td>\n",
       "      <td>52850562</td>\n",
       "      <td>60.47</td>\n",
       "      <td>109098</td>\n",
       "      <td>191791km*km</td>\n",
       "    </tr>\n",
       "    <tr>\n",
       "      <th>12</th>\n",
       "      <td>Kerala</td>\n",
       "      <td>2001</td>\n",
       "      <td>31841374</td>\n",
       "      <td>90.86</td>\n",
       "      <td>103847</td>\n",
       "      <td>38863km*km</td>\n",
       "    </tr>\n",
       "    <tr>\n",
       "      <th>13</th>\n",
       "      <td>Madhyapradesh</td>\n",
       "      <td>2001</td>\n",
       "      <td>60348023</td>\n",
       "      <td>63.74</td>\n",
       "      <td>181741</td>\n",
       "      <td>308000km*km</td>\n",
       "    </tr>\n",
       "  </tbody>\n",
       "</table>\n",
       "</div>"
      ],
      "text/plain": [
       "             State/UT  Year  Population  Literacy rate  Total crime  \\\n",
       "0     Andhara Pradesh  2001    76201007          66.64       130089   \n",
       "1   Arunachal Pradesh  2001     1097968          54.34         2342   \n",
       "2               Assam  2001    26655528          63.25        36877   \n",
       "3               Bihar  2001    82998509          47.00        88432   \n",
       "4        Chattishgarh  2001    20833803          64.66        38460   \n",
       "5                 Goa  2001     1347668          82.01         2341   \n",
       "6              Gujrat  2001    50671071          69.14       103419   \n",
       "7             Haryana  2001    21144564          67.91        38759   \n",
       "8    Himachal Pradesh  2001     6077900          76.48        11499   \n",
       "9     Jammu & Kashmir  2001    10143700          55.52        19505   \n",
       "10          Jharkhand  2001    26945829          53.56        25447   \n",
       "11          Karnataka  2001    52850562          60.47       109098   \n",
       "12             Kerala  2001    31841374          90.86       103847   \n",
       "13      Madhyapradesh  2001    60348023          63.74       181741   \n",
       "\n",
       "           Area  \n",
       "0   160205km*km  \n",
       "1    83743km*km  \n",
       "2    78438km*km  \n",
       "3    94163km*km  \n",
       "4   135194km*km  \n",
       "5     3702km*km  \n",
       "6   196000km*km  \n",
       "7    44212km*km  \n",
       "8   556058km*km  \n",
       "9    42241km*km  \n",
       "10   79714km*km  \n",
       "11  191791km*km  \n",
       "12   38863km*km  \n",
       "13  308000km*km  "
      ]
     },
     "execution_count": 25,
     "metadata": {},
     "output_type": "execute_result"
    }
   ],
   "source": [
    "df.head(14)"
   ]
  },
  {
   "cell_type": "code",
   "execution_count": 26,
   "id": "f1d1a7a8",
   "metadata": {},
   "outputs": [
    {
     "data": {
      "text/html": [
       "<div>\n",
       "<style scoped>\n",
       "    .dataframe tbody tr th:only-of-type {\n",
       "        vertical-align: middle;\n",
       "    }\n",
       "\n",
       "    .dataframe tbody tr th {\n",
       "        vertical-align: top;\n",
       "    }\n",
       "\n",
       "    .dataframe thead th {\n",
       "        text-align: right;\n",
       "    }\n",
       "</style>\n",
       "<table border=\"1\" class=\"dataframe\">\n",
       "  <thead>\n",
       "    <tr style=\"text-align: right;\">\n",
       "      <th></th>\n",
       "      <th>State/UT</th>\n",
       "      <th>Year</th>\n",
       "      <th>Population</th>\n",
       "      <th>Literacy rate</th>\n",
       "      <th>Total crime</th>\n",
       "      <th>Area</th>\n",
       "    </tr>\n",
       "  </thead>\n",
       "  <tbody>\n",
       "    <tr>\n",
       "      <th>15</th>\n",
       "      <td>Manipur</td>\n",
       "      <td>2001</td>\n",
       "      <td>2293896</td>\n",
       "      <td>69.93</td>\n",
       "      <td>2489</td>\n",
       "      <td>22327km*km</td>\n",
       "    </tr>\n",
       "    <tr>\n",
       "      <th>16</th>\n",
       "      <td>Meghalaya</td>\n",
       "      <td>2001</td>\n",
       "      <td>2318822</td>\n",
       "      <td>62.56</td>\n",
       "      <td>1687</td>\n",
       "      <td>22720km*km</td>\n",
       "    </tr>\n",
       "    <tr>\n",
       "      <th>17</th>\n",
       "      <td>Mizoram</td>\n",
       "      <td>2001</td>\n",
       "      <td>888573</td>\n",
       "      <td>88.80</td>\n",
       "      <td>2246</td>\n",
       "      <td>21081km*km</td>\n",
       "    </tr>\n",
       "    <tr>\n",
       "      <th>18</th>\n",
       "      <td>Nagaland</td>\n",
       "      <td>2001</td>\n",
       "      <td>1990036</td>\n",
       "      <td>66.59</td>\n",
       "      <td>1234</td>\n",
       "      <td>16579km*km</td>\n",
       "    </tr>\n",
       "    <tr>\n",
       "      <th>19</th>\n",
       "      <td>Orissa</td>\n",
       "      <td>2001</td>\n",
       "      <td>36804660</td>\n",
       "      <td>63.08</td>\n",
       "      <td>46661</td>\n",
       "      <td>155707km*km</td>\n",
       "    </tr>\n",
       "    <tr>\n",
       "      <th>20</th>\n",
       "      <td>Punjab</td>\n",
       "      <td>2001</td>\n",
       "      <td>24358999</td>\n",
       "      <td>69.65</td>\n",
       "      <td>2774</td>\n",
       "      <td>50362km*km</td>\n",
       "    </tr>\n",
       "    <tr>\n",
       "      <th>21</th>\n",
       "      <td>Rajstan</td>\n",
       "      <td>2001</td>\n",
       "      <td>56507188</td>\n",
       "      <td>60.41</td>\n",
       "      <td>155185</td>\n",
       "      <td>342239km*km</td>\n",
       "    </tr>\n",
       "    <tr>\n",
       "      <th>22</th>\n",
       "      <td>Sikkim</td>\n",
       "      <td>2001</td>\n",
       "      <td>540851</td>\n",
       "      <td>68.81</td>\n",
       "      <td>444</td>\n",
       "      <td>7096km*km</td>\n",
       "    </tr>\n",
       "    <tr>\n",
       "      <th>23</th>\n",
       "      <td>Tamilnadu</td>\n",
       "      <td>2001</td>\n",
       "      <td>62405679</td>\n",
       "      <td>73.45</td>\n",
       "      <td>154801</td>\n",
       "      <td>130060km*km</td>\n",
       "    </tr>\n",
       "    <tr>\n",
       "      <th>24</th>\n",
       "      <td>Tripura</td>\n",
       "      <td>2001</td>\n",
       "      <td>3199203</td>\n",
       "      <td>73.19</td>\n",
       "      <td>2801</td>\n",
       "      <td>10486km*km</td>\n",
       "    </tr>\n",
       "    <tr>\n",
       "      <th>25</th>\n",
       "      <td>Uttarpradesh</td>\n",
       "      <td>2001</td>\n",
       "      <td>8489349</td>\n",
       "      <td>71.62</td>\n",
       "      <td>178129</td>\n",
       "      <td>53483km*km</td>\n",
       "    </tr>\n",
       "    <tr>\n",
       "      <th>26</th>\n",
       "      <td>Uttarakhand</td>\n",
       "      <td>2001</td>\n",
       "      <td>166197921</td>\n",
       "      <td>56.27</td>\n",
       "      <td>8073</td>\n",
       "      <td>243286km*km</td>\n",
       "    </tr>\n",
       "    <tr>\n",
       "      <th>27</th>\n",
       "      <td>West bengal</td>\n",
       "      <td>2001</td>\n",
       "      <td>80176197</td>\n",
       "      <td>68.64</td>\n",
       "      <td>61563</td>\n",
       "      <td>88752km*km</td>\n",
       "    </tr>\n",
       "    <tr>\n",
       "      <th>28</th>\n",
       "      <td>Delhi UT</td>\n",
       "      <td>2001</td>\n",
       "      <td>13850507</td>\n",
       "      <td>81.67</td>\n",
       "      <td>54384</td>\n",
       "      <td>1483km*km</td>\n",
       "    </tr>\n",
       "  </tbody>\n",
       "</table>\n",
       "</div>"
      ],
      "text/plain": [
       "        State/UT  Year  Population  Literacy rate  Total crime         Area\n",
       "15       Manipur  2001     2293896          69.93         2489   22327km*km\n",
       "16     Meghalaya  2001     2318822          62.56         1687   22720km*km\n",
       "17       Mizoram  2001      888573          88.80         2246   21081km*km\n",
       "18      Nagaland  2001     1990036          66.59         1234   16579km*km\n",
       "19        Orissa  2001    36804660          63.08        46661  155707km*km\n",
       "20        Punjab  2001    24358999          69.65         2774   50362km*km\n",
       "21       Rajstan  2001    56507188          60.41       155185  342239km*km\n",
       "22        Sikkim  2001      540851          68.81          444    7096km*km\n",
       "23     Tamilnadu  2001    62405679          73.45       154801  130060km*km\n",
       "24       Tripura  2001     3199203          73.19         2801   10486km*km\n",
       "25  Uttarpradesh  2001     8489349          71.62       178129   53483km*km\n",
       "26   Uttarakhand  2001   166197921          56.27         8073  243286km*km\n",
       "27   West bengal  2001    80176197          68.64        61563   88752km*km\n",
       "28      Delhi UT  2001    13850507          81.67        54384    1483km*km"
      ]
     },
     "execution_count": 26,
     "metadata": {},
     "output_type": "execute_result"
    }
   ],
   "source": [
    "df.tail(14)"
   ]
  },
  {
   "cell_type": "code",
   "execution_count": 4,
   "id": "9cf51f0c",
   "metadata": {},
   "outputs": [
    {
     "data": {
      "text/plain": [
       "count    2.900000e+01\n",
       "mean     3.538131e+07\n",
       "std      3.855881e+07\n",
       "min      5.408510e+05\n",
       "25%      3.199203e+06\n",
       "50%      2.435900e+07\n",
       "75%      5.650719e+07\n",
       "max      1.661979e+08\n",
       "Name: Population, dtype: float64"
      ]
     },
     "execution_count": 4,
     "metadata": {},
     "output_type": "execute_result"
    }
   ],
   "source": [
    "df['Population'].describe()"
   ]
  },
  {
   "cell_type": "code",
   "execution_count": 8,
   "id": "f9d8b53d",
   "metadata": {},
   "outputs": [
    {
     "data": {
      "text/plain": [
       "29"
      ]
     },
     "execution_count": 8,
     "metadata": {},
     "output_type": "execute_result"
    }
   ],
   "source": [
    "df['Population'].count()"
   ]
  },
  {
   "cell_type": "code",
   "execution_count": 9,
   "id": "19a157fd",
   "metadata": {},
   "outputs": [
    {
     "data": {
      "text/plain": [
       "540851"
      ]
     },
     "execution_count": 9,
     "metadata": {},
     "output_type": "execute_result"
    }
   ],
   "source": [
    "df['Population'].min()"
   ]
  },
  {
   "cell_type": "code",
   "execution_count": 10,
   "id": "7736167a",
   "metadata": {},
   "outputs": [
    {
     "data": {
      "text/plain": [
       "166197921"
      ]
     },
     "execution_count": 10,
     "metadata": {},
     "output_type": "execute_result"
    }
   ],
   "source": [
    "df['Population'].max()"
   ]
  },
  {
   "cell_type": "code",
   "execution_count": 56,
   "id": "78f1c788",
   "metadata": {},
   "outputs": [
    {
     "data": {
      "text/plain": [
       "count    29.000000\n",
       "mean     67.832069\n",
       "std      10.212290\n",
       "min      47.000000\n",
       "25%      62.560000\n",
       "50%      67.910000\n",
       "75%      73.190000\n",
       "max      90.860000\n",
       "Name: Literacy rate, dtype: float64"
      ]
     },
     "execution_count": 56,
     "metadata": {},
     "output_type": "execute_result"
    }
   ],
   "source": [
    "df['Literacy rate'].describe()"
   ]
  },
  {
   "cell_type": "code",
   "execution_count": 58,
   "id": "618f2e0a",
   "metadata": {},
   "outputs": [
    {
     "data": {
      "text/plain": [
       "29"
      ]
     },
     "execution_count": 58,
     "metadata": {},
     "output_type": "execute_result"
    }
   ],
   "source": [
    "df['Literacy rate'].count()"
   ]
  },
  {
   "cell_type": "code",
   "execution_count": 59,
   "id": "46cf0a75",
   "metadata": {},
   "outputs": [
    {
     "data": {
      "text/plain": [
       "47.0"
      ]
     },
     "execution_count": 59,
     "metadata": {},
     "output_type": "execute_result"
    }
   ],
   "source": [
    "df['Literacy rate'].min()"
   ]
  },
  {
   "cell_type": "code",
   "execution_count": 60,
   "id": "b61c65d4",
   "metadata": {},
   "outputs": [
    {
     "data": {
      "text/plain": [
       "90.86"
      ]
     },
     "execution_count": 60,
     "metadata": {},
     "output_type": "execute_result"
    }
   ],
   "source": [
    "df['Literacy rate'].max()"
   ]
  },
  {
   "cell_type": "code",
   "execution_count": 61,
   "id": "1b8539a5",
   "metadata": {},
   "outputs": [
    {
     "data": {
      "text/plain": [
       "count        29.000000\n",
       "mean      59846.896552\n",
       "std       62939.221793\n",
       "min         444.000000\n",
       "25%        2774.000000\n",
       "50%       38460.000000\n",
       "75%      103847.000000\n",
       "max      181741.000000\n",
       "Name: Total crime, dtype: float64"
      ]
     },
     "execution_count": 61,
     "metadata": {},
     "output_type": "execute_result"
    }
   ],
   "source": [
    "df['Total crime'].describe()"
   ]
  },
  {
   "cell_type": "code",
   "execution_count": 62,
   "id": "bc7f3a0d",
   "metadata": {},
   "outputs": [
    {
     "data": {
      "text/plain": [
       "29"
      ]
     },
     "execution_count": 62,
     "metadata": {},
     "output_type": "execute_result"
    }
   ],
   "source": [
    "df['Total crime'].count()"
   ]
  },
  {
   "cell_type": "code",
   "execution_count": 63,
   "id": "8da8f04c",
   "metadata": {},
   "outputs": [
    {
     "data": {
      "text/plain": [
       "444"
      ]
     },
     "execution_count": 63,
     "metadata": {},
     "output_type": "execute_result"
    }
   ],
   "source": [
    "df['Total crime'].min()"
   ]
  },
  {
   "cell_type": "code",
   "execution_count": 64,
   "id": "4734d12e",
   "metadata": {},
   "outputs": [
    {
     "data": {
      "text/plain": [
       "181741"
      ]
     },
     "execution_count": 64,
     "metadata": {},
     "output_type": "execute_result"
    }
   ],
   "source": [
    "df['Total crime'].max()"
   ]
  },
  {
   "cell_type": "code",
   "execution_count": 65,
   "id": "21b52161",
   "metadata": {},
   "outputs": [
    {
     "data": {
      "text/plain": [
       "count              29\n",
       "unique             28\n",
       "top       308000km*km\n",
       "freq                2\n",
       "Name: Area, dtype: object"
      ]
     },
     "execution_count": 65,
     "metadata": {},
     "output_type": "execute_result"
    }
   ],
   "source": [
    "df['Area'].describe()"
   ]
  },
  {
   "cell_type": "code",
   "execution_count": 66,
   "id": "af406e90",
   "metadata": {},
   "outputs": [
    {
     "data": {
      "text/plain": [
       "29"
      ]
     },
     "execution_count": 66,
     "metadata": {},
     "output_type": "execute_result"
    }
   ],
   "source": [
    "df['Area'].count()"
   ]
  },
  {
   "cell_type": "code",
   "execution_count": 67,
   "id": "1952c1b5",
   "metadata": {},
   "outputs": [
    {
     "data": {
      "text/plain": [
       "'10486km*km'"
      ]
     },
     "execution_count": 67,
     "metadata": {},
     "output_type": "execute_result"
    }
   ],
   "source": [
    "df['Area'].min()"
   ]
  },
  {
   "cell_type": "code",
   "execution_count": 68,
   "id": "99f1878b",
   "metadata": {},
   "outputs": [
    {
     "data": {
      "text/plain": [
       "'94163km*km'"
      ]
     },
     "execution_count": 68,
     "metadata": {},
     "output_type": "execute_result"
    }
   ],
   "source": [
    "df['Area'].max()"
   ]
  },
  {
   "cell_type": "code",
   "execution_count": 11,
   "id": "5730a7a9",
   "metadata": {},
   "outputs": [],
   "source": [
    "import pandas as pd\n",
    "import matplotlib.pyplot as plt\n"
   ]
  },
  {
   "cell_type": "code",
   "execution_count": null,
   "id": "c6c2af72",
   "metadata": {},
   "outputs": [],
   "source": []
  },
  {
   "cell_type": "code",
   "execution_count": 21,
   "id": "55b9439c",
   "metadata": {},
   "outputs": [
    {
     "data": {
      "image/png": "[encoded data removed]",
      "text/plain": [
       "<Figure size 640x480 with 1 Axes>"
      ]
     },
     "metadata": {},
     "output_type": "display_data"
    }
   ],
   "source": [
    "plt.boxplot(df['Population'])\n",
    "plt.title('Population')\n",
    "plt.show()"
   ]
  },
  {
   "cell_type": "code",
   "execution_count": 69,
   "id": "ce078ba0",
   "metadata": {},
   "outputs": [
    {
     "data": {
      "image/png": "[encoded data removed]",
      "text/plain": [
       "<Figure size 640x480 with 1 Axes>"
      ]
     },
     "metadata": {},
     "output_type": "display_data"
    }
   ],
   "source": [
    "plt.hist(df['Population'])\n",
    "plt.title('Populations Histogram')\n",
    "plt.xlabel(\"Population\")\n",
    "plt.ylabel(\"State/UT\")\n",
    "plt.show()"
   ]
  },
  {
   "cell_type": "code",
   "execution_count": 34,
   "id": "ee1047fd",
   "metadata": {},
   "outputs": [
    {
     "data": {
      "text/plain": [
       "{'bodies': [<matplotlib.collections.PolyCollection at 0x2c5ace16770>],\n",
       " 'cmaxes': <matplotlib.collections.LineCollection at 0x2c5ace16650>,\n",
       " 'cmins': <matplotlib.collections.LineCollection at 0x2c5ace16d70>,\n",
       " 'cbars': <matplotlib.collections.LineCollection at 0x2c5ace170d0>}"
      ]
     },
     "execution_count": 34,
     "metadata": {},
     "output_type": "execute_result"
    },
    {
     "data": {
      "image/png": "[encoded data removed]",
      "text/plain": [
       "<Figure size 640x480 with 1 Axes>"
      ]
     },
     "metadata": {},
     "output_type": "display_data"
    }
   ],
   "source": [
    "plt.violinplot(df['Population'])"
   ]
  },
  {
   "cell_type": "code",
   "execution_count": 43,
   "id": "e05bb333",
   "metadata": {},
   "outputs": [
    {
     "data": {
      "image/png": "[encoded data removed]",
      "text/plain": [
       "<Figure size 640x480 with 1 Axes>"
      ]
     },
     "metadata": {},
     "output_type": "display_data"
    }
   ],
   "source": [
    "x=df['Population']\n",
    "y=df['State/UT']\n",
    "plt.scatter(x,y)\n",
    "plt.xlabel('Population')\n",
    "plt.ylabel('State/UT')\n",
    "plt.show()"
   ]
  },
  {
   "cell_type": "code",
   "execution_count": 36,
   "id": "2569ad1e",
   "metadata": {},
   "outputs": [],
   "source": [
    "import pandas as pd\n",
    "import numpy as np\n",
    "import matplotlib.pyplot as plt\n",
    "import seaborn as sns"
   ]
  },
  {
   "cell_type": "code",
   "execution_count": 50,
   "id": "36404122",
   "metadata": {},
   "outputs": [
    {
     "data": {
      "text/html": [
       "<div>\n",
       "<style scoped>\n",
       "    .dataframe tbody tr th:only-of-type {\n",
       "        vertical-align: middle;\n",
       "    }\n",
       "\n",
       "    .dataframe tbody tr th {\n",
       "        vertical-align: top;\n",
       "    }\n",
       "\n",
       "    .dataframe thead th {\n",
       "        text-align: right;\n",
       "    }\n",
       "</style>\n",
       "<table border=\"1\" class=\"dataframe\">\n",
       "  <thead>\n",
       "    <tr style=\"text-align: right;\">\n",
       "      <th></th>\n",
       "      <th>State/UT</th>\n",
       "      <th>Year</th>\n",
       "      <th>Population</th>\n",
       "      <th>Literacy rate</th>\n",
       "      <th>Total crime</th>\n",
       "      <th>Area</th>\n",
       "    </tr>\n",
       "  </thead>\n",
       "  <tbody>\n",
       "    <tr>\n",
       "      <th>0</th>\n",
       "      <td>Andhara Pradesh</td>\n",
       "      <td>2001</td>\n",
       "      <td>76201007</td>\n",
       "      <td>66.64</td>\n",
       "      <td>130089</td>\n",
       "      <td>160205km*km</td>\n",
       "    </tr>\n",
       "    <tr>\n",
       "      <th>1</th>\n",
       "      <td>Arunachal Pradesh</td>\n",
       "      <td>2001</td>\n",
       "      <td>1097968</td>\n",
       "      <td>54.34</td>\n",
       "      <td>2342</td>\n",
       "      <td>83743km*km</td>\n",
       "    </tr>\n",
       "    <tr>\n",
       "      <th>2</th>\n",
       "      <td>Assam</td>\n",
       "      <td>2001</td>\n",
       "      <td>26655528</td>\n",
       "      <td>63.25</td>\n",
       "      <td>36877</td>\n",
       "      <td>78438km*km</td>\n",
       "    </tr>\n",
       "    <tr>\n",
       "      <th>3</th>\n",
       "      <td>Bihar</td>\n",
       "      <td>2001</td>\n",
       "      <td>82998509</td>\n",
       "      <td>47.00</td>\n",
       "      <td>88432</td>\n",
       "      <td>94163km*km</td>\n",
       "    </tr>\n",
       "    <tr>\n",
       "      <th>4</th>\n",
       "      <td>Chattishgarh</td>\n",
       "      <td>2001</td>\n",
       "      <td>20833803</td>\n",
       "      <td>64.66</td>\n",
       "      <td>38460</td>\n",
       "      <td>135194km*km</td>\n",
       "    </tr>\n",
       "    <tr>\n",
       "      <th>5</th>\n",
       "      <td>Goa</td>\n",
       "      <td>2001</td>\n",
       "      <td>1347668</td>\n",
       "      <td>82.01</td>\n",
       "      <td>2341</td>\n",
       "      <td>3702km*km</td>\n",
       "    </tr>\n",
       "    <tr>\n",
       "      <th>6</th>\n",
       "      <td>Gujrat</td>\n",
       "      <td>2001</td>\n",
       "      <td>50671071</td>\n",
       "      <td>69.14</td>\n",
       "      <td>103419</td>\n",
       "      <td>196000km*km</td>\n",
       "    </tr>\n",
       "    <tr>\n",
       "      <th>7</th>\n",
       "      <td>Haryana</td>\n",
       "      <td>2001</td>\n",
       "      <td>21144564</td>\n",
       "      <td>67.91</td>\n",
       "      <td>38759</td>\n",
       "      <td>44212km*km</td>\n",
       "    </tr>\n",
       "    <tr>\n",
       "      <th>8</th>\n",
       "      <td>Himachal Pradesh</td>\n",
       "      <td>2001</td>\n",
       "      <td>6077900</td>\n",
       "      <td>76.48</td>\n",
       "      <td>11499</td>\n",
       "      <td>556058km*km</td>\n",
       "    </tr>\n",
       "    <tr>\n",
       "      <th>9</th>\n",
       "      <td>Jammu &amp; Kashmir</td>\n",
       "      <td>2001</td>\n",
       "      <td>10143700</td>\n",
       "      <td>55.52</td>\n",
       "      <td>19505</td>\n",
       "      <td>42241km*km</td>\n",
       "    </tr>\n",
       "    <tr>\n",
       "      <th>10</th>\n",
       "      <td>Jharkhand</td>\n",
       "      <td>2001</td>\n",
       "      <td>26945829</td>\n",
       "      <td>53.56</td>\n",
       "      <td>25447</td>\n",
       "      <td>79714km*km</td>\n",
       "    </tr>\n",
       "    <tr>\n",
       "      <th>11</th>\n",
       "      <td>Karnataka</td>\n",
       "      <td>2001</td>\n",
       "      <td>52850562</td>\n",
       "      <td>60.47</td>\n",
       "      <td>109098</td>\n",
       "      <td>191791km*km</td>\n",
       "    </tr>\n",
       "    <tr>\n",
       "      <th>12</th>\n",
       "      <td>Kerala</td>\n",
       "      <td>2001</td>\n",
       "      <td>31841374</td>\n",
       "      <td>90.86</td>\n",
       "      <td>103847</td>\n",
       "      <td>38863km*km</td>\n",
       "    </tr>\n",
       "    <tr>\n",
       "      <th>13</th>\n",
       "      <td>Madhyapradesh</td>\n",
       "      <td>2001</td>\n",
       "      <td>60348023</td>\n",
       "      <td>63.74</td>\n",
       "      <td>181741</td>\n",
       "      <td>308000km*km</td>\n",
       "    </tr>\n",
       "    <tr>\n",
       "      <th>14</th>\n",
       "      <td>Maharashtra</td>\n",
       "      <td>2001</td>\n",
       "      <td>96878627</td>\n",
       "      <td>76.88</td>\n",
       "      <td>171233</td>\n",
       "      <td>308000km*km</td>\n",
       "    </tr>\n",
       "    <tr>\n",
       "      <th>15</th>\n",
       "      <td>Manipur</td>\n",
       "      <td>2001</td>\n",
       "      <td>2293896</td>\n",
       "      <td>69.93</td>\n",
       "      <td>2489</td>\n",
       "      <td>22327km*km</td>\n",
       "    </tr>\n",
       "    <tr>\n",
       "      <th>16</th>\n",
       "      <td>Meghalaya</td>\n",
       "      <td>2001</td>\n",
       "      <td>2318822</td>\n",
       "      <td>62.56</td>\n",
       "      <td>1687</td>\n",
       "      <td>22720km*km</td>\n",
       "    </tr>\n",
       "    <tr>\n",
       "      <th>17</th>\n",
       "      <td>Mizoram</td>\n",
       "      <td>2001</td>\n",
       "      <td>888573</td>\n",
       "      <td>88.80</td>\n",
       "      <td>2246</td>\n",
       "      <td>21081km*km</td>\n",
       "    </tr>\n",
       "    <tr>\n",
       "      <th>18</th>\n",
       "      <td>Nagaland</td>\n",
       "      <td>2001</td>\n",
       "      <td>1990036</td>\n",
       "      <td>66.59</td>\n",
       "      <td>1234</td>\n",
       "      <td>16579km*km</td>\n",
       "    </tr>\n",
       "    <tr>\n",
       "      <th>19</th>\n",
       "      <td>Orissa</td>\n",
       "      <td>2001</td>\n",
       "      <td>36804660</td>\n",
       "      <td>63.08</td>\n",
       "      <td>46661</td>\n",
       "      <td>155707km*km</td>\n",
       "    </tr>\n",
       "    <tr>\n",
       "      <th>20</th>\n",
       "      <td>Punjab</td>\n",
       "      <td>2001</td>\n",
       "      <td>24358999</td>\n",
       "      <td>69.65</td>\n",
       "      <td>2774</td>\n",
       "      <td>50362km*km</td>\n",
       "    </tr>\n",
       "    <tr>\n",
       "      <th>21</th>\n",
       "      <td>Rajstan</td>\n",
       "      <td>2001</td>\n",
       "      <td>56507188</td>\n",
       "      <td>60.41</td>\n",
       "      <td>155185</td>\n",
       "      <td>342239km*km</td>\n",
       "    </tr>\n",
       "    <tr>\n",
       "      <th>22</th>\n",
       "      <td>Sikkim</td>\n",
       "      <td>2001</td>\n",
       "      <td>540851</td>\n",
       "      <td>68.81</td>\n",
       "      <td>444</td>\n",
       "      <td>7096km*km</td>\n",
       "    </tr>\n",
       "    <tr>\n",
       "      <th>23</th>\n",
       "      <td>Tamilnadu</td>\n",
       "      <td>2001</td>\n",
       "      <td>62405679</td>\n",
       "      <td>73.45</td>\n",
       "      <td>154801</td>\n",
       "      <td>130060km*km</td>\n",
       "    </tr>\n",
       "    <tr>\n",
       "      <th>24</th>\n",
       "      <td>Tripura</td>\n",
       "      <td>2001</td>\n",
       "      <td>3199203</td>\n",
       "      <td>73.19</td>\n",
       "      <td>2801</td>\n",
       "      <td>10486km*km</td>\n",
       "    </tr>\n",
       "    <tr>\n",
       "      <th>25</th>\n",
       "      <td>Uttarpradesh</td>\n",
       "      <td>2001</td>\n",
       "      <td>8489349</td>\n",
       "      <td>71.62</td>\n",
       "      <td>178129</td>\n",
       "      <td>53483km*km</td>\n",
       "    </tr>\n",
       "    <tr>\n",
       "      <th>26</th>\n",
       "      <td>Uttarakhand</td>\n",
       "      <td>2001</td>\n",
       "      <td>166197921</td>\n",
       "      <td>56.27</td>\n",
       "      <td>8073</td>\n",
       "      <td>243286km*km</td>\n",
       "    </tr>\n",
       "    <tr>\n",
       "      <th>27</th>\n",
       "      <td>West bengal</td>\n",
       "      <td>2001</td>\n",
       "      <td>80176197</td>\n",
       "      <td>68.64</td>\n",
       "      <td>61563</td>\n",
       "      <td>88752km*km</td>\n",
       "    </tr>\n",
       "    <tr>\n",
       "      <th>28</th>\n",
       "      <td>Delhi UT</td>\n",
       "      <td>2001</td>\n",
       "      <td>13850507</td>\n",
       "      <td>81.67</td>\n",
       "      <td>54384</td>\n",
       "      <td>1483km*km</td>\n",
       "    </tr>\n",
       "  </tbody>\n",
       "</table>\n",
       "</div>"
      ],
      "text/plain": [
       "             State/UT  Year  Population  Literacy rate  Total crime  \\\n",
       "0     Andhara Pradesh  2001    76201007          66.64       130089   \n",
       "1   Arunachal Pradesh  2001     1097968          54.34         2342   \n",
       "2               Assam  2001    26655528          63.25        36877   \n",
       "3               Bihar  2001    82998509          47.00        88432   \n",
       "4        Chattishgarh  2001    20833803          64.66        38460   \n",
       "5                 Goa  2001     1347668          82.01         2341   \n",
       "6              Gujrat  2001    50671071          69.14       103419   \n",
       "7             Haryana  2001    21144564          67.91        38759   \n",
       "8    Himachal Pradesh  2001     6077900          76.48        11499   \n",
       "9     Jammu & Kashmir  2001    10143700          55.52        19505   \n",
       "10          Jharkhand  2001    26945829          53.56        25447   \n",
       "11          Karnataka  2001    52850562          60.47       109098   \n",
       "12             Kerala  2001    31841374          90.86       103847   \n",
       "13      Madhyapradesh  2001    60348023          63.74       181741   \n",
       "14        Maharashtra  2001    96878627          76.88       171233   \n",
       "15            Manipur  2001     2293896          69.93         2489   \n",
       "16          Meghalaya  2001     2318822          62.56         1687   \n",
       "17            Mizoram  2001      888573          88.80         2246   \n",
       "18           Nagaland  2001     1990036          66.59         1234   \n",
       "19             Orissa  2001    36804660          63.08        46661   \n",
       "20             Punjab  2001    24358999          69.65         2774   \n",
       "21            Rajstan  2001    56507188          60.41       155185   \n",
       "22             Sikkim  2001      540851          68.81          444   \n",
       "23          Tamilnadu  2001    62405679          73.45       154801   \n",
       "24            Tripura  2001     3199203          73.19         2801   \n",
       "25       Uttarpradesh  2001     8489349          71.62       178129   \n",
       "26        Uttarakhand  2001   166197921          56.27         8073   \n",
       "27        West bengal  2001    80176197          68.64        61563   \n",
       "28           Delhi UT  2001    13850507          81.67        54384   \n",
       "\n",
       "           Area  \n",
       "0   160205km*km  \n",
       "1    83743km*km  \n",
       "2    78438km*km  \n",
       "3    94163km*km  \n",
       "4   135194km*km  \n",
       "5     3702km*km  \n",
       "6   196000km*km  \n",
       "7    44212km*km  \n",
       "8   556058km*km  \n",
       "9    42241km*km  \n",
       "10   79714km*km  \n",
       "11  191791km*km  \n",
       "12   38863km*km  \n",
       "13  308000km*km  \n",
       "14  308000km*km  \n",
       "15   22327km*km  \n",
       "16   22720km*km  \n",
       "17   21081km*km  \n",
       "18   16579km*km  \n",
       "19  155707km*km  \n",
       "20   50362km*km  \n",
       "21  342239km*km  \n",
       "22    7096km*km  \n",
       "23  130060km*km  \n",
       "24   10486km*km  \n",
       "25   53483km*km  \n",
       "26  243286km*km  \n",
       "27   88752km*km  \n",
       "28    1483km*km  "
      ]
     },
     "execution_count": 50,
     "metadata": {},
     "output_type": "execute_result"
    }
   ],
   "source": [
    "import seaborn as sns\n",
    "Stateds=pd.read_csv(\"state_data.csv\")\n",
    "Stateds\n"
   ]
  },
  {
   "cell_type": "code",
   "execution_count": 51,
   "id": "4229b3bf",
   "metadata": {},
   "outputs": [
    {
     "data": {
      "text/plain": [
       "<Axes: xlabel='Population', ylabel='State/UT'>"
      ]
     },
     "execution_count": 51,
     "metadata": {},
     "output_type": "execute_result"
    },
    {
     "data": {
      "image/png": "[encoded data removed]",
      "text/plain": [
       "<Figure size 640x480 with 1 Axes>"
      ]
     },
     "metadata": {},
     "output_type": "display_data"
    }
   ],
   "source": [
    "sns.swarmplot(x='Population', y='State/UT', data=Stateds)"
   ]
  },
  {
   "cell_type": "code",
   "execution_count": 52,
   "id": "27bc3a84",
   "metadata": {},
   "outputs": [
    {
     "data": {
      "text/plain": [
       "<Axes: ylabel='count'>"
      ]
     },
     "execution_count": 52,
     "metadata": {},
     "output_type": "execute_result"
    },
    {
     "data": {
      "image/png": "[encoded data removed]",
      "text/plain": [
       "<Figure size 640x480 with 1 Axes>"
      ]
     },
     "metadata": {},
     "output_type": "display_data"
    }
   ],
   "source": [
    "sns.countplot(Stateds['Population'])"
   ]
  },
  {
   "cell_type": "code",
   "execution_count": 53,
   "id": "1f6a60ff",
   "metadata": {},
   "outputs": [
    {
     "data": {
      "text/plain": [
       "76201007     1\n",
       "2293896      1\n",
       "80176197     1\n",
       "166197921    1\n",
       "8489349      1\n",
       "3199203      1\n",
       "62405679     1\n",
       "540851       1\n",
       "56507188     1\n",
       "24358999     1\n",
       "36804660     1\n",
       "1990036      1\n",
       "888573       1\n",
       "2318822      1\n",
       "96878627     1\n",
       "1097968      1\n",
       "60348023     1\n",
       "31841374     1\n",
       "52850562     1\n",
       "26945829     1\n",
       "10143700     1\n",
       "6077900      1\n",
       "21144564     1\n",
       "50671071     1\n",
       "1347668      1\n",
       "20833803     1\n",
       "82998509     1\n",
       "26655528     1\n",
       "13850507     1\n",
       "Name: Population, dtype: int64"
      ]
     },
     "execution_count": 53,
     "metadata": {},
     "output_type": "execute_result"
    }
   ],
   "source": [
    "Stateds['Population'].value_counts()"
   ]
  },
  {
   "cell_type": "code",
   "execution_count": 54,
   "id": "690067c1",
   "metadata": {},
   "outputs": [
    {
     "data": {
      "text/plain": [
       "<Axes: xlabel='Population', ylabel='Count'>"
      ]
     },
     "execution_count": 54,
     "metadata": {},
     "output_type": "execute_result"
    },
    {
     "data": {
      "image/png": "[encoded data removed]",
      "text/plain": [
       "<Figure size 640x480 with 1 Axes>"
      ]
     },
     "metadata": {},
     "output_type": "display_data"
    }
   ],
   "source": [
    "sns.histplot(data=Stateds, x='Population')"
   ]
  },
  {
   "cell_type": "code",
   "execution_count": null,
   "id": "22c05a40",
   "metadata": {},
   "outputs": [],
   "source": []
  }
 ],
 "metadata": {
  "kernelspec": {
   "display_name": "Python 3 (ipykernel)",
   "language": "python",
   "name": "python3"
  },
  "language_info": {
   "codemirror_mode": {
    "name": "ipython",
    "version": 3
   },
   "file_extension": ".py",
   "mimetype": "text/x-python",
   "name": "python",
   "nbconvert_exporter": "python",
   "pygments_lexer": "ipython3",
   "version": "3.10.9"
  }
 },
 "nbformat": 4,
 "nbformat_minor": 5
}
